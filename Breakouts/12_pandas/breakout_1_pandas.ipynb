{
 "metadata": {
  "name": ""
 },
 "nbformat": 3,
 "nbformat_minor": 0,
 "worksheets": [
  {
   "cells": [
    {
     "cell_type": "markdown",
     "metadata": {},
     "source": [
      "Breakout session: SF Home sales\n",
      "----\n",
      "\n",
      "Get the data (``SFShousing.csv``):\n",
      "\n",
      "http://bit.ly/16e8TfA\n",
      "----\n",
      "\n",
      "Hints:\n",
      "frequency for resampling 'M' : Monthly   \n",
      "how=['mean', 'count']"
     ]
    },
    {
     "cell_type": "markdown",
     "metadata": {},
     "source": [
      "1. Read this data into a pandas dataframe. Convert the dates into the index and the dollar amounts of homesale prices (\"Sale_Amount\") into float values.\n",
      "\n",
      "2. What were the total number of sales per month?\n",
      "\n",
      "3. What was the average, min and max housing price per month?\n",
      "\n",
      "4. (bonus) What was the average housing price for all houses sold over $100,000?"
     ]
    },
    {
     "cell_type": "code",
     "collapsed": false,
     "input": [],
     "language": "python",
     "metadata": {},
     "outputs": []
    }
   ],
   "metadata": {}
  }
 ]
}