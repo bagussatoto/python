{
 "metadata": {
  "name": ""
 },
 "nbformat": 3,
 "nbformat_minor": 0,
 "worksheets": [
  {
   "cells": [
    {
     "cell_type": "markdown",
     "metadata": {},
     "source": [
      "Breakout 1:  parsing the Laureates"
     ]
    },
    {
     "cell_type": "markdown",
     "metadata": {},
     "source": [
      "1) Get a string representation of the HTML for the wikipedia entry of Nobel Laureates (by Country)\n",
      "\"http://en.wikipedia.org/wiki/List_of_Nobel_laureates_by_country\"\n",
      "\n",
      "you can use `requests` or `urllib` etc."
     ]
    },
    {
     "cell_type": "code",
     "collapsed": false,
     "input": [],
     "language": "python",
     "metadata": {},
     "outputs": [],
     "prompt_number": 3
    },
    {
     "cell_type": "markdown",
     "metadata": {},
     "source": [
      "2) Parse this HTML into a sensible Pythonic collection of the entries, like:\n",
      "\n",
      "```python\n",
      "nobel = {\"Argentina\": \\\n",
      " [{\"name\": \"C\u00e9sar Milstein\", \"cat\": \"Physiology or medicine\", \"year\": 1984},\\\n",
      "  {\"name\": \"Adolfo P\u00e9rez Esquivel\", \"cat\": \"Peave\", \"year\": 1980},\n",
      "   ...\n",
      " ],\n",
      "        \"Australia\": ...\n",
      " }\n",
      "```\n",
      "\n",
      "hints:\n",
      "\n",
      "```python\n",
      "print soup.findAll(\"span\", class_=\"mw-headline\")[0].contents[0]\n",
      "Argentina\n",
      "\n",
      "print soup.findAll(\"ol\")[0].findAll(\"li\")[0].find(\"a\").contents[0]\n",
      "C\u00e9sar Milstein\n",
      "```"
     ]
    },
    {
     "cell_type": "markdown",
     "metadata": {},
     "source": [
      "3) Which country has the most number of Laureates? Which has the most number of Peace Laureates?"
     ]
    },
    {
     "cell_type": "markdown",
     "metadata": {},
     "source": [
      "4) Ask another (non trivial) question of you data and answer it."
     ]
    },
    {
     "cell_type": "markdown",
     "metadata": {},
     "source": []
    },
    {
     "cell_type": "markdown",
     "metadata": {},
     "source": [
      "(c) J. Bloom UC Berkeley (2013)"
     ]
    },
    {
     "cell_type": "code",
     "collapsed": false,
     "input": [],
     "language": "python",
     "metadata": {},
     "outputs": []
    }
   ],
   "metadata": {}
  }
 ]
}