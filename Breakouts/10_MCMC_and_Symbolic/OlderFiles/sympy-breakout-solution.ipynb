{
 "metadata": {
  "name": "sympy-breakout-solution"
 },
 "nbformat": 3,
 "nbformat_minor": 0,
 "worksheets": [
  {
   "cells": [
    {
     "cell_type": "code",
     "collapsed": true,
     "input": [
      "from sympy import *\n",
      "%load_ext sympyprinting\n",
      "from sympy.abc import sigma"
     ],
     "language": "python",
     "metadata": {},
     "outputs": []
    },
    {
     "cell_type": "markdown",
     "metadata": {},
     "source": [
      "Define the covariance matrix: $\\Sigma = \\left[\\sigma_{xx}^2,\\ \\sigma_{xy};\\ \\sigma_{xy},\\ \\sigma_{yy}^2\\right]$"
     ]
    },
    {
     "cell_type": "code",
     "collapsed": false,
     "input": [
      "x,y = symbols('x,y')\n",
      "\n",
      "sxx = Symbol('\\sigma_xx')\n",
      "sxy = Symbol('\\sigma_xy')\n",
      "syy = Symbol('\\sigma_yy')"
     ],
     "language": "python",
     "metadata": {},
     "outputs": []
    },
    {
     "cell_type": "code",
     "collapsed": false,
     "input": [
      "X = Matrix( [x,y] )\n",
      "M = Matrix( [[sxx,sxy],[sxy,syy]])\n",
      "M.det()"
     ],
     "language": "python",
     "metadata": {},
     "outputs": []
    },
    {
     "cell_type": "code",
     "collapsed": false,
     "input": [
      "M.inv()"
     ],
     "language": "python",
     "metadata": {},
     "outputs": []
    },
    {
     "cell_type": "markdown",
     "metadata": {},
     "source": [
      "Define the general form of the PDF:\n",
      "$p(\\mathbf{x;\\Sigma}) = \\frac{1}{\\sqrt{2\\pi}|\\Sigma|}\\exp\\left(-\\frac{1}{2}\\mathbf{x}^{T}\\Sigma^{-1}\\mathbf{x}\\right)$"
     ]
    },
    {
     "cell_type": "code",
     "collapsed": false,
     "input": [
      "pdf = 1 / sqrt(2*pi) / M.det() * exp(-(1./2.) * (X.transpose() * M.inv() * X)[0])\n",
      "pdf"
     ],
     "language": "python",
     "metadata": {},
     "outputs": []
    },
    {
     "cell_type": "markdown",
     "metadata": {},
     "source": [
      "Use an intermediate function to get the particular PDF for a set of parameters $p_{\\Sigma}(\\mathbf{x})$"
     ]
    },
    {
     "cell_type": "code",
     "collapsed": false,
     "input": [
      "def get_pdf(sxx0=1,sxy0=0,syy0=1):\n",
      "    return pdf.subs({sxx:sxx0,sxy:sxy0,syy:syy0})\n",
      "\n",
      "trial = get_pdf()\n",
      "trial"
     ],
     "language": "python",
     "metadata": {},
     "outputs": []
    },
    {
     "cell_type": "markdown",
     "metadata": {},
     "source": [
      "Test out evaluation of the PDF"
     ]
    },
    {
     "cell_type": "code",
     "collapsed": false,
     "input": [
      "def eval_pdf(x0=0,y0=0,sxx0=1,sxy0=0,syy0=1):\n",
      "    pdf_tmp = get_pdf(sxx0,sxy0,syy0)\n",
      "    return pdf_tmp.subs({x:x0,y:y0})\n",
      "\n",
      "eval_pdf(0,0)"
     ],
     "language": "python",
     "metadata": {},
     "outputs": []
    }
   ],
   "metadata": {}
  }
 ]
}