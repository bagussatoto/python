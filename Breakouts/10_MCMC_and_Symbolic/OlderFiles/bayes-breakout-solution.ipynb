{
 "metadata": {
  "name": "Untitled0"
 },
 "nbformat": 3,
 "nbformat_minor": 0,
 "worksheets": [
  {
   "cells": [
    {
     "cell_type": "code",
     "collapsed": false,
     "input": [
      "%pylab inline\n",
      "d = np.loadtxt('breakout_data.dat')\n",
      "x = d[:,0]\n",
      "y = d[:,1]\n",
      "dy= d[:,2]"
     ],
     "language": "python",
     "metadata": {},
     "outputs": []
    },
    {
     "cell_type": "code",
     "collapsed": false,
     "input": [
      "# have a look at the data\n",
      "plt.errorbar(x, y, dy, fmt='b.')"
     ],
     "language": "python",
     "metadata": {},
     "outputs": []
    },
    {
     "cell_type": "code",
     "collapsed": false,
     "input": [
      "# now that x,y, and dy are in our namespace, we can fit\n",
      "#  a model to them\n",
      "f_model = lambda a,b: a * np.log(x) + b\n",
      "    \n",
      "# let's see what the model looks like\n",
      "plt.plot( x, f_model(1, 1))\n",
      "plt.title('quick check of our model')\n",
      "\n",
      "\n",
      "# looks like a good model"
     ],
     "language": "python",
     "metadata": {},
     "outputs": []
    },
    {
     "cell_type": "code",
     "collapsed": false,
     "input": [
      "# use the analytical form for log of the likelihood,\n",
      "#  assuming that the datapoints are uncorrelated and normal\n",
      "def LL(a, b):\n",
      "    tmp = (y - f_model(a,b))/dy \n",
      "    return np.sum( tmp**2 )/-2.\n",
      "\n",
      "\n",
      "# evaluate the log likelihood over a grid of a, given b=0\n",
      "#  NOTE: the range here was chosen iteratively, after exploring\n",
      "#  a few different numbers, to show the peak clearly\n",
      "test_grid = np.linspace(0, 1.5, 10000)\n",
      "loglikelihood = np.array([LL(a, 0) for a in test_grid])\n",
      "\n",
      "plt.figure()\n",
      "# let's plot the log of the likelihood\n",
      "plt.plot( test_grid, loglikelihood)\n",
      "plt.xlabel('a')\n",
      "plt.ylabel('Log Likelihood')\n",
      "\n",
      "plt.figure()\n",
      "# let's see what the actual likelihood looks like: should be a gaussian\n",
      "likelihood = np.exp(loglikelihood)\n",
      "plt.plot(test_grid, likelihood)\n",
      "plt.xlabel('a')\n",
      "plt.ylabel('likelihood')\n",
      "old_ax = plt.axis()\n",
      "plt.axis( [.75, .85, old_ax[2], old_ax[3]] )\n",
      "\n",
      "print 'maximum likelyhood is around a=', test_grid[np.argmax(loglikelihood)]"
     ],
     "language": "python",
     "metadata": {},
     "outputs": []
    },
    {
     "cell_type": "code",
     "collapsed": false,
     "input": [
      "# now let's introduce a prior, and update our result\n",
      "#  Remember that the normalization doesn't matter,\n",
      "#  since we're just looking for peak of the\n",
      "#  likelihood, we don't care about the actual value\n",
      "def PP(a, mean, var):\n",
      "    return np.exp(-(a-mean)**2 / (2*var**2))\n",
      "prior = PP(test_grid, 0.8, 0.3)\n",
      "\n",
      "#plot the prior, to see what it looks like\n",
      "plt.plot(test_grid, prior, label='prior')\n",
      "plt.xlabel('a')\n",
      "plt.title('prior')\n"
     ],
     "language": "python",
     "metadata": {},
     "outputs": []
    },
    {
     "cell_type": "code",
     "collapsed": false,
     "input": [
      "# posterior = likelihood*prior, but let's continue to work in\n",
      "#  logspace to save our resolution\n",
      "\n",
      "logposterior = loglikelihood + np.log(prior)\n",
      "\n",
      "ax1 = plt.subplot(2,1,1)\n",
      "ax1.plot(test_grid, loglikelihood)\n",
      "\n",
      "ax2 = plt.subplot(2,1,2)\n",
      "ax2.plot(test_grid, logposterior)\n",
      "ax2.set_xlabel('a')\n",
      "\n",
      "\n",
      "print 'maximum likelihood after including prior is around a=', test_grid[np.argmax(logposterior)]\n"
     ],
     "language": "python",
     "metadata": {},
     "outputs": []
    },
    {
     "cell_type": "code",
     "collapsed": false,
     "input": [
      "# It looks like the prior changed our result very little - it is a 'weak' prior\n",
      "#  What happens if we introduce a strong prior?\n",
      "\n",
      "strong_prior = PP(test_grid, 1.2, .03)\n",
      "\n",
      "plt.figure(1)\n",
      "plt.plot(test_grid, strong_prior)\n",
      "plt.xlabel('a')\n",
      "plt.title('our strong prior')\n",
      "\n",
      "\n",
      "plt.figure(2)\n",
      "logposterior = loglikelihood + np.log(strong_prior)\n",
      "\n",
      "ax1 = plt.subplot(2,1,1)\n",
      "ax1.plot(test_grid, loglikelihood)\n",
      "ax1.set_title('the effect of a strong prior on log likelihood')\n",
      "\n",
      "ax2 = plt.subplot(2,1,2)\n",
      "ax2.plot(test_grid, logposterior)\n",
      "ax2.set_xlabel('a')\n",
      "\n",
      "\n",
      "plt.figure(3)\n",
      "ax1 = plt.subplot(2,1,1)\n",
      "ax1.plot(test_grid, np.exp(loglikelihood))\n",
      "ax1.set_title('the effect of a strong prior on likelihood')\n",
      "old_ax = plt.axis()\n",
      "ax1.axis( [.75, .85, old_ax[2], old_ax[3]] )\n",
      "\n",
      "ax2 = plt.subplot(2,1,2)\n",
      "ax2.plot(test_grid, np.exp(logposterior))\n",
      "ax2.set_xlabel('a')\n",
      "old_ax = plt.axis()\n",
      "ax2.axis( [.75, .85, old_ax[2], old_ax[3]] )"
     ],
     "language": "python",
     "metadata": {},
     "outputs": []
    },
    {
     "cell_type": "code",
     "collapsed": false,
     "input": [
      "# now let's explore the joint distribution of a and b\n",
      "\n",
      "a_array = linspace(0, 2, 100)\n",
      "b_array = linspace(0, 2, 100)\n",
      "loglikelihood_array = zeros((a_array.size, b_array.size))\n",
      "\n",
      "for i,a in enumerate(a_array):\n",
      "    for j,b in enumerate(b_array):\n",
      "        loglikelihood_array[i][j] = LL(a,b)\n",
      "\n",
      "\n",
      "plt.imshow( loglikelihood_array, extent=(a_array[0], a_array[-1], b_array[0], b_array[-1]) )\n",
      "plt.xlabel('a')\n",
      "plt.ylabel('b')\n",
      "plt.colorbar()\n",
      "plt.title('log likelihood over both a and b')"
     ],
     "language": "python",
     "metadata": {},
     "outputs": []
    },
    {
     "cell_type": "code",
     "collapsed": false,
     "input": [
      "# let's find the a and b values for this peak,\n",
      "#  and see how the model looks compared to the data\n",
      "\n",
      "# hacky way to find the max of an array - you can do better!\n",
      "i_a, i_b = np.where(loglikelihood_array == np.max(loglikelihood_array))\n",
      "a_guess = a_array[int(i_a)]\n",
      "b_guess = b_array[int(i_b)]\n",
      "\n",
      "\n",
      "# plot it up\n",
      "plt.errorbar(x, y, dy, fmt='b.')\n",
      "plt.plot( x, f_model(a_guess, b_guess), c='red')\n",
      "plt.xlabel('x')\n",
      "plt.ylabel('y')\n",
      "plt.title('our final model')\n",
      "\n",
      "# not too shabby, if I say so myself"
     ],
     "language": "python",
     "metadata": {},
     "outputs": []
    }
   ],
   "metadata": {}
  }
 ]
}