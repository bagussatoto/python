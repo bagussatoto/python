{
 "metadata": {
  "name": "sympy-breakout"
 },
 "nbformat": 3,
 "nbformat_minor": 0,
 "worksheets": [
  {
   "cells": [
    {
     "cell_type": "code",
     "collapsed": true,
     "input": [
      "from sympy import *\n",
      "%load_ext sympyprinting\n",
      "from sympy.abc import sigma"
     ],
     "language": "python",
     "metadata": {},
     "outputs": []
    },
    {
     "cell_type": "markdown",
     "metadata": {},
     "source": [
      "Define the covariance matrix: $\\Sigma = \\left[\\sigma_{xx}^2,\\ \\sigma_{xy};\\ \\sigma_{xy},\\ \\sigma_{yy}^2\\right]$"
     ]
    },
    {
     "cell_type": "code",
     "collapsed": false,
     "input": [],
     "language": "python",
     "metadata": {},
     "outputs": []
    },
    {
     "cell_type": "markdown",
     "metadata": {},
     "source": [
      "Define the general form of the PDF:\n",
      "$p(\\mathbf{x;\\Sigma}) = \\frac{1}{\\sqrt{2\\pi}|\\Sigma|}\\exp\\left(-\\frac{1}{2}\\mathbf{x}^{T}\\Sigma^{-1}\\mathbf{x}\\right)$"
     ]
    },
    {
     "cell_type": "code",
     "collapsed": false,
     "input": [],
     "language": "python",
     "metadata": {},
     "outputs": []
    },
    {
     "cell_type": "markdown",
     "metadata": {},
     "source": [
      "Use an intermediate function to get the particular PDF for a set of parameters $p_{\\Sigma}(\\mathbf{x})$"
     ]
    },
    {
     "cell_type": "code",
     "collapsed": false,
     "input": [],
     "language": "python",
     "metadata": {},
     "outputs": []
    },
    {
     "cell_type": "markdown",
     "metadata": {},
     "source": [
      "Test out evaluation of the PDF"
     ]
    },
    {
     "cell_type": "code",
     "collapsed": false,
     "input": [],
     "language": "python",
     "metadata": {},
     "outputs": []
    }
   ],
   "metadata": {}
  }
 ]
}