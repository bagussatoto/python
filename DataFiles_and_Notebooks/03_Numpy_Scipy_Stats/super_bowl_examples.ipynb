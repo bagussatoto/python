{
 "metadata": {
  "name": "super_bowl_examples"
 },
 "nbformat": 3,
 "nbformat_minor": 0,
 "worksheets": [
  {
   "cells": [
    {
     "cell_type": "markdown",
     "metadata": {},
     "source": [
      "$\\textbf{Example 1: Super Bowl results.}$  \n",
      "======================================================\n",
      "\n",
      "I have grabbed the results of the first 45 Super Bowls from http://www.pro-football-reference.com/\n",
      "\n",
      "Question of interest: based on the winning team's final score in a Super Bowl, can we reliably predict the margin of victory?\n",
      "\n",
      "Let's compute some summary statistics, fit a linear regression model, and check the goodness of that model fit.\n"
     ]
    },
    {
     "cell_type": "code",
     "collapsed": false,
     "input": [
      "import numpy\n",
      "import scipy.stats as stats\n",
      "\n",
      "# load results from all superbowls\n",
      "sb = numpy.loadtxt(\"superbowl_results.txt\", delimiter=\",\", skiprows=1 \\\n",
      "                   ,usecols=(3,5),dtype={'names': ('winnerpts','loserpts')\\\n",
      "                                         ,'formats': ('i4','i4')})\n",
      "\n",
      "margin = sb['winnerpts']-sb['loserpts'] # margin of victory\n",
      "\n",
      "print('Scores of the last 5 Super Bowls (before 2012):')\n",
      "print(sb[0:5])"
     ],
     "language": "python",
     "metadata": {},
     "outputs": []
    },
    {
     "cell_type": "code",
     "collapsed": false,
     "input": [
      "# plot winner points versus margin of victory\n",
      "plt.figure(figsize=(10, 8))\n",
      "plt.plot(sb['winnerpts'],margin,'o')\n",
      "plt.xlabel('Winner Points')\n",
      "plt.ylabel('Margin of Victory')\n",
      "plt.title('Results of first 45 Super Bowls')"
     ],
     "language": "python",
     "metadata": {},
     "outputs": []
    },
    {
     "cell_type": "markdown",
     "metadata": {},
     "source": [
      "Let's first compute the correlation coefficient.  In scipy.stats we have several options, including Pearson's $r$, Spearman's $\\rho$, and Kendall's $\\tau$."
     ]
    },
    {
     "cell_type": "code",
     "collapsed": false,
     "input": [
      "# Pearson's r\n",
      "stats.pearsonr(sb['winnerpts'],margin)"
     ],
     "language": "python",
     "metadata": {},
     "outputs": []
    },
    {
     "cell_type": "code",
     "collapsed": false,
     "input": [
      "# Spearman's rho\n",
      "stats.spearmanr(sb['winnerpts'],margin)"
     ],
     "language": "python",
     "metadata": {},
     "outputs": []
    },
    {
     "cell_type": "code",
     "collapsed": false,
     "input": [
      "# Kendall's tau\n",
      "stats.kendalltau(sb['winnerpts'],margin)"
     ],
     "language": "python",
     "metadata": {},
     "outputs": []
    },
    {
     "cell_type": "code",
     "collapsed": false,
     "input": [
      "# linear regression\n",
      "slope, intercept, r_value, p_value, std_err = stats.linregress(x=sb['winnerpts'],y=margin)\n",
      "\n",
      "# calculate residuals\n",
      "pred_lr = intercept + slope*sb['winnerpts']\n",
      "resids = margin - pred_lr\n",
      "\n",
      "# MSE\n",
      "n = len(resids)\n",
      "sigma_hat = sqrt(1./(n-2) * sum(resids**2))\n",
      "print(\"sigma-hat = \" + str(sigma_hat))\n",
      "\n",
      "# plot regression line\n",
      "plt.figure(figsize=(10, 8))\n",
      "plt.plot(sb['winnerpts'],margin,'o')\n",
      "plt.xlabel('Winner Points')\n",
      "plt.ylabel('Margin of Victory')\n",
      "plt.title('Results of first 45 Super Bowls')\n",
      "plt.plot((min(sb['winnerpts']),max(sb['winnerpts'])), \\\n",
      "         (intercept + slope*min(sb['winnerpts']), intercept + slope*max(sb['winnerpts'])),\\\n",
      "         'r-',linewidth=3)"
     ],
     "language": "python",
     "metadata": {},
     "outputs": []
    },
    {
     "cell_type": "code",
     "collapsed": false,
     "input": [
      "# histogram of residuals\n",
      "plt.figure(figsize=(10, 8))\n",
      "hist(resids,bins=7,color='b',normed=True)\n",
      "xlabel('Residuals')\n",
      "ylabel('Density')\n",
      "title('Histogram of Margin of Victory Residuals')\n",
      "xvec = arange(-15,15,.1)\n",
      "plot(xvec,map(lambda x: stats.norm.pdf(x,0,std(resids)),xvec),'r-',linewidth=3)\n",
      "legend(('N(0,$\\sigma$)','Residuals'))"
     ],
     "language": "python",
     "metadata": {},
     "outputs": []
    },
    {
     "cell_type": "code",
     "collapsed": false,
     "input": [
      "# probability plot (aka QQ-plot)\n",
      "plt.figure(figsize=(10, 8))\n",
      "res_qq = stats.probplot(resids,(0.,std(resids)),'norm',plot=plt)"
     ],
     "language": "python",
     "metadata": {},
     "outputs": []
    },
    {
     "cell_type": "code",
     "collapsed": false,
     "input": [
      "# KS test for normality\n",
      "ks_pval = stats.kstest(resids,'norm',(0.,std(resids)))[0]\n",
      "print(\"KS-test for normality: p-value = \" + str(ks_pval))"
     ],
     "language": "python",
     "metadata": {},
     "outputs": []
    },
    {
     "cell_type": "markdown",
     "metadata": {},
     "source": [
      "Finally, we will use this model to predict the Giants' margin of victory in Super Bowl XLVI given that they scored 21 Points."
     ]
    },
    {
     "cell_type": "code",
     "collapsed": false,
     "input": [
      "# linear regression predicted margin of victory\n",
      "winscore_xlvi = 21\n",
      "pred_margin_xlvi = intercept + slope*winscore_xlvi\n",
      "print(\"Predicted Margin of Victory: \" + str(round(pred_margin_xlvi)))"
     ],
     "language": "python",
     "metadata": {},
     "outputs": []
    },
    {
     "cell_type": "code",
     "collapsed": false,
     "input": [
      "# 90% prediction interval\n",
      "SE_mu = sigma_hat * sqrt(1./n + (winscore_xlvi - sb['winnerpts'].mean())**2 \\\n",
      "                         / sum((sb['winnerpts'] - sb['winnerpts'].mean())**2))\n",
      "\n",
      "alpha = 0.1\n",
      "SE_pred = stats.t.ppf(1-alpha/2,n-2)* sqrt( sigma_hat**2 + SE_mu**2)\n",
      "\n",
      "print('95% Prediction Interval: (' + str(pred_margin_xlvi - SE_pred) + ',' + \\\n",
      "      str(pred_margin_xlvi + SE_pred) + ')')"
     ],
     "language": "python",
     "metadata": {},
     "outputs": []
    },
    {
     "cell_type": "markdown",
     "metadata": {},
     "source": [
      "\n",
      "\n",
      "\n",
      "$\\textbf{Example 2: Super Bowl plays.}$  \n",
      "======================================================\n",
      "\n",
      "I grabbed the data for every play in the Super Bowl for the last 4 years, including the number of yards gained, whether it was a run or a pass, the down, and the quarter of play."
     ]
    },
    {
     "cell_type": "code",
     "collapsed": true,
     "input": [
      "sbplays = numpy.loadtxt(\"superbowl_plays.txt\", delimiter=\",\", \\\n",
      "                        skiprows=1,usecols=(8,9,10,12,14),\\\n",
      "                        dtype={'names': ('quarter','down','disttogo','yards','passer')\\\n",
      "                               ,'formats': ('i4','i4','i4','i4','S16')})\n",
      "N = len(sbplays['yards'])"
     ],
     "language": "python",
     "metadata": {},
     "outputs": []
    },
    {
     "cell_type": "code",
     "collapsed": false,
     "input": [
      "## plot boxplots\n",
      "plt.figure(figsize=(8, 6))\n",
      "boxplot(sbplays['yards'])\n",
      "ylabel('Yards Gained')"
     ],
     "language": "python",
     "metadata": {},
     "outputs": []
    },
    {
     "cell_type": "code",
     "collapsed": false,
     "input": [
      "# parallel boxplots\n",
      "plt.figure(figsize=(10, 8))\n",
      "datalist = [sbplays['yards'][sbplays['quarter']==1],sbplays['yards'][sbplays['quarter']==2],\\\n",
      "            sbplays['yards'][sbplays['quarter']==3], sbplays['yards'][sbplays['quarter']==4]]\n",
      "boxplot(datalist)\n",
      "xlabel('Quarter')\n",
      "ylabel('Yards Gained')"
     ],
     "language": "python",
     "metadata": {},
     "outputs": []
    },
    {
     "cell_type": "code",
     "collapsed": false,
     "input": [
      "### Kernel Density Estimation\n",
      "runyards = np.array(sbplays['yards'][sbplays['passer']==''], dtype=np.float)\n",
      "passyards = np.array(sbplays['yards'][sbplays['passer']!=''], dtype=np.float)\n",
      "\n",
      "de_run = stats.gaussian_kde(runyards)\n",
      "de_pass = stats.gaussian_kde(passyards)\n",
      "\n",
      "yardvec = arange(-20.,80.,0.5)\n",
      "plt.figure(figsize=(10, 8))\n",
      "plot(yardvec,de_run.evaluate(yardvec),'r-',linewidth=3)\n",
      "plot(yardvec,de_pass.evaluate(yardvec),'b-',linewidth=3)\n",
      "legend(('Run','Pass'))\n",
      "xlabel('Yards')\n",
      "ylabel('Density')\n",
      "title('KDE for Super Bowl Plays')"
     ],
     "language": "python",
     "metadata": {},
     "outputs": []
    },
    {
     "cell_type": "code",
     "collapsed": false,
     "input": [
      "plt.figure(figsize=(10, 8))\n",
      "plot(yardvec,de_run.evaluate(yardvec),'r-',linewidth=3)\n",
      "plot(yardvec,de_pass.evaluate(yardvec),'b-',linewidth=3)\n",
      "legend(('Run','Pass'))\n",
      "xlabel('Yards')\n",
      "ylabel('Density')\n",
      "title('KDE for Super Bowl Plays')\n",
      "\n",
      "\n",
      "# KDE classifier run versus pass\n",
      "fill_between(yardvec,0,0.0999,where=de_run.evaluate(yardvec) < de_pass.evaluate(yardvec)\\\n",
      "             ,color='b',alpha=0.4)\n",
      "fill_between(yardvec,0,0.0999,where=de_run.evaluate(yardvec) >= de_pass.evaluate(yardvec)\\\n",
      "             ,color='r',alpha=0.4)\n",
      "\n",
      "classify_pass = yardvec[de_run.evaluate(yardvec) < de_pass.evaluate(yardvec)]\n",
      "classify_run = yardvec[de_run.evaluate(yardvec) > de_pass.evaluate(yardvec)]\n",
      "\n",
      "print('Range Classified as Run: [' + str(min(classify_run)) + ',' \\\n",
      "      + str(max(classify_run)) + '] yards')"
     ],
     "language": "python",
     "metadata": {},
     "outputs": []
    },
    {
     "cell_type": "markdown",
     "metadata": {},
     "source": [
      "$\\textbf{Example 3: Clustering.}$  \n",
      "======================================================"
     ]
    },
    {
     "cell_type": "code",
     "collapsed": false,
     "input": [
      "# 3D interlinking chain data\n",
      "chainlink =  numpy.loadtxt(\"chainlink.dat\")\n",
      "classes = numpy.concatenate((repeat('r',500),repeat('b',500)),axis=0)\n",
      "\n",
      "from mpl_toolkits.mplot3d import Axes3D\n",
      "fig = plt.figure(figsize=(12, 10))\n",
      "ax = fig.add_subplot(111, projection='3d')\n",
      "ax.scatter(chainlink[:,0], chainlink[:,1], chainlink[:,2], c=classes)\n",
      "title(\"Chainlink Data Set\")"
     ],
     "language": "python",
     "metadata": {},
     "outputs": []
    },
    {
     "cell_type": "code",
     "collapsed": false,
     "input": [
      "# K-means\n",
      "import scipy.cluster as cluster\n",
      "\n",
      "km_cent, dist = cluster.vq.kmeans(chainlink,2,iter=100)\n",
      "km_cluster, dist_cent = cluster.vq.vq(chainlink, km_cent)\n",
      "km_color = map(lambda x: x == 0 and 'r' or 'b', km_cluster)\n",
      "\n",
      "fig = plt.figure(figsize=(12, 10))\n",
      "ax = fig.add_subplot(111, projection='3d')\n",
      "ax.scatter(chainlink[:,0], chainlink[:,1], chainlink[:,2], c=km_color)\n",
      "title(\"K-Means Clustering Result\")"
     ],
     "language": "python",
     "metadata": {},
     "outputs": []
    },
    {
     "cell_type": "code",
     "collapsed": false,
     "input": [
      "# hierarchical (complete-linkage)\n",
      "hc_complete = cluster.hierarchy.fclusterdata(chainlink,t=2,criterion='maxclust',\\\n",
      "                                             method='complete')\n",
      "hc_c_color = map(lambda x: x == 1 and 'r' or 'b', hc_complete)\n",
      "\n",
      "fig = plt.figure(figsize=(12, 10))\n",
      "ax = fig.add_subplot(111, projection='3d')\n",
      "ax.scatter(chainlink[:,0], chainlink[:,1], chainlink[:,2], c=hc_c_color)\n",
      "title(\"Complete-Linkage Hierarchical Clustering\")"
     ],
     "language": "python",
     "metadata": {},
     "outputs": []
    },
    {
     "cell_type": "code",
     "collapsed": false,
     "input": [
      "# hierarchical (average-linkage)\n",
      "hc_average = cluster.hierarchy.fclusterdata(chainlink,t=2,criterion='maxclust',\\\n",
      "                                            method='average')\n",
      "hc_a_color = map(lambda x: x == 1 and 'r' or 'b', hc_average)\n",
      "\n",
      "fig = plt.figure(figsize=(12, 10))\n",
      "ax = fig.add_subplot(111, projection='3d')\n",
      "ax.scatter(chainlink[:,0], chainlink[:,1], chainlink[:,2], c=hc_a_color)\n",
      "title(\"Average-Linkage Hierarchical Clustering\")"
     ],
     "language": "python",
     "metadata": {},
     "outputs": []
    },
    {
     "cell_type": "code",
     "collapsed": false,
     "input": [
      "# hierarchical (single-linkage)\n",
      "hc_single = cluster.hierarchy.fclusterdata(chainlink,t=2,criterion='maxclust',\\\n",
      "                                           method='single')\n",
      "hc_s_color = map(lambda x: x == 1 and 'r' or 'b', hc_single)\n",
      "\n",
      "fig = plt.figure(figsize=(12, 10))\n",
      "ax = fig.add_subplot(111, projection='3d')\n",
      "ax.scatter(chainlink[:,0], chainlink[:,1], chainlink[:,2], c=hc_s_color)\n",
      "title(\"Single-Linkage Hierarchical Clustering\")"
     ],
     "language": "python",
     "metadata": {},
     "outputs": []
    },
    {
     "cell_type": "code",
     "collapsed": true,
     "input": [],
     "language": "python",
     "metadata": {},
     "outputs": []
    }
   ],
   "metadata": {}
  }
 ]
}