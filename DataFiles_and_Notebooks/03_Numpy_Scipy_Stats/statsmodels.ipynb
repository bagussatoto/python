{
 "metadata": {
  "name": "statsmodels"
 },
 "nbformat": 3,
 "nbformat_minor": 0,
 "worksheets": [
  {
   "cells": [
    {
     "cell_type": "heading",
     "level": 1,
     "metadata": {},
     "source": [
      "scikits.statsmodels notebook for AY250<br> \n",
      "Berian James, 24-Sep-2012"
     ]
    },
    {
     "cell_type": "markdown",
     "metadata": {},
     "source": [
      "**I. Regression (OLS)**"
     ]
    },
    {
     "cell_type": "markdown",
     "metadata": {},
     "source": [
      "Import command. Note use of API request."
     ]
    },
    {
     "cell_type": "code",
     "collapsed": false,
     "input": [
      "import numpy as np\n",
      "import statsmodels.api as sm"
     ],
     "language": "python",
     "metadata": {},
     "outputs": []
    },
    {
     "cell_type": "markdown",
     "metadata": {},
     "source": [
      "Build a simple data set $y = a_1x^2 + a_2x + a_3 + \\epsilon$ with $\\epsilon\\sim N(0,1)$"
     ]
    },
    {
     "cell_type": "code",
     "collapsed": true,
     "input": [
      "npts = 100\n",
      "x = np.linspace(0,10, npts)"
     ],
     "language": "python",
     "metadata": {},
     "outputs": []
    },
    {
     "cell_type": "code",
     "collapsed": false,
     "input": [
      "X = sm.add_constant(np.column_stack((x**2,x)),prepend=False)"
     ],
     "language": "python",
     "metadata": {},
     "outputs": []
    },
    {
     "cell_type": "code",
     "collapsed": false,
     "input": [
      "beta = np.array([0.1, 1, 10])\n",
      "y = np.dot(X, beta) + np.random.normal(size=npts)"
     ],
     "language": "python",
     "metadata": {},
     "outputs": []
    },
    {
     "cell_type": "code",
     "collapsed": false,
     "input": [
      "plot(x,y)"
     ],
     "language": "python",
     "metadata": {},
     "outputs": []
    },
    {
     "cell_type": "markdown",
     "metadata": {},
     "source": [
      "Now, fit the model for the coefficients"
     ]
    },
    {
     "cell_type": "code",
     "collapsed": true,
     "input": [
      "results = sm.OLS(y, X).fit()"
     ],
     "language": "python",
     "metadata": {},
     "outputs": []
    },
    {
     "cell_type": "markdown",
     "metadata": {},
     "source": [
      "Examine formatted summary of results"
     ]
    },
    {
     "cell_type": "code",
     "collapsed": false,
     "input": [
      "print results.summary()"
     ],
     "language": "python",
     "metadata": {},
     "outputs": []
    },
    {
     "cell_type": "code",
     "collapsed": false,
     "input": [
      "plot(x,y,x,results.fittedvalues)"
     ],
     "language": "python",
     "metadata": {},
     "outputs": []
    },
    {
     "cell_type": "code",
     "collapsed": false,
     "input": [
      "print results.params\n",
      "print results.normalized_cov_params"
     ],
     "language": "python",
     "metadata": {},
     "outputs": []
    },
    {
     "cell_type": "markdown",
     "metadata": {},
     "source": [
      "Trending and detrending"
     ]
    },
    {
     "cell_type": "code",
     "collapsed": false,
     "input": [
      "yp = sm.tsa.detrend(y,order=1)"
     ],
     "language": "python",
     "metadata": {},
     "outputs": []
    },
    {
     "cell_type": "code",
     "collapsed": false,
     "input": [
      "plot(x,yp)"
     ],
     "language": "python",
     "metadata": {},
     "outputs": []
    },
    {
     "cell_type": "markdown",
     "metadata": {},
     "source": [
      "**II. Regression (WLS)**"
     ]
    },
    {
     "cell_type": "code",
     "collapsed": false,
     "input": [
      "w = 0.1*(101-x**2)\n",
      "y = np.dot(X, beta) + np.random.normal(scale=w,size=npts)\n",
      "plot(x,y)"
     ],
     "language": "python",
     "metadata": {},
     "outputs": []
    },
    {
     "cell_type": "code",
     "collapsed": true,
     "input": [
      "ols_results = sm.OLS(y,X).fit()"
     ],
     "language": "python",
     "metadata": {},
     "outputs": []
    },
    {
     "cell_type": "code",
     "collapsed": false,
     "input": [
      "wls_model = sm.WLS(y,X, weights=1./w**2)\n",
      "wls_results = wls_model.fit()\n",
      "wls_results.params"
     ],
     "language": "python",
     "metadata": {},
     "outputs": []
    },
    {
     "cell_type": "code",
     "collapsed": false,
     "input": [
      "plot(x,y,x,ols_results.fittedvalues,x,wls_results.fittedvalues)"
     ],
     "language": "python",
     "metadata": {},
     "outputs": []
    },
    {
     "cell_type": "code",
     "collapsed": false,
     "input": [
      "subplot(211)\n",
      "plot(x,wls_results.resid)\n",
      "subplot(212)\n",
      "plot(x,ols_results.resid)"
     ],
     "language": "python",
     "metadata": {},
     "outputs": []
    },
    {
     "cell_type": "markdown",
     "metadata": {},
     "source": [
      "**III. Rudimentary time-series analysis**"
     ]
    },
    {
     "cell_type": "code",
     "collapsed": true,
     "input": [
      "import scipy.io as sio\n",
      "EEG = sio.loadmat('eeglab_data.set',struct_as_record=True)"
     ],
     "language": "python",
     "metadata": {},
     "outputs": []
    },
    {
     "cell_type": "markdown",
     "metadata": {},
     "source": [
      "Build x-axis data"
     ]
    },
    {
     "cell_type": "code",
     "collapsed": false,
     "input": [
      "npts = (EEG['EEG'])['pnts']\n",
      "xmax = (EEG['EEG'])['xmax']\n",
      "t = linspace(0,xmax,npts)"
     ],
     "language": "python",
     "metadata": {},
     "outputs": []
    },
    {
     "cell_type": "markdown",
     "metadata": {},
     "source": [
      "Select channel"
     ]
    },
    {
     "cell_type": "code",
     "collapsed": false,
     "input": [
      "channels = (EEG['EEG'])['data'][0,0]\n",
      "y = channels[15,:]\n",
      "plot(y)"
     ],
     "language": "python",
     "metadata": {},
     "outputs": []
    },
    {
     "cell_type": "markdown",
     "metadata": {},
     "source": [
      "Take autocorrelation"
     ]
    },
    {
     "cell_type": "code",
     "collapsed": false,
     "input": [
      "acf = sm.tsa.acf(y)\n",
      "bar(range(41),acf,width=0.2)"
     ],
     "language": "python",
     "metadata": {},
     "outputs": []
    },
    {
     "cell_type": "code",
     "collapsed": false,
     "input": [
      "acovf = sm.tsa.acovf(y)\n",
      "f = plot(acovf)"
     ],
     "language": "python",
     "metadata": {},
     "outputs": []
    },
    {
     "cell_type": "code",
     "collapsed": false,
     "input": [
      "_ = acorr(y,maxlags=50)"
     ],
     "language": "python",
     "metadata": {},
     "outputs": []
    },
    {
     "cell_type": "code",
     "collapsed": false,
     "input": [
      "Py = sm.tsa.periodogram(y)\n",
      "plot(Py)"
     ],
     "language": "python",
     "metadata": {},
     "outputs": []
    },
    {
     "cell_type": "markdown",
     "metadata": {},
     "source": [
      "**IV. Vector auto-regressive processes**\n",
      "\n",
      "Assume one has $T$ observations of $k$ variables. A vector auto-regressive process attempts to describe the relationship between the variables from their previous values, so that:\n",
      "\n",
      "$$\\mathbf{y}(t) = \\sum_{i=1}^{p} \\mathbf{A}_i \\mathbf{y}(t-i) + \\epsilon(\\mathbf{0},\\Sigma)$$\n",
      "\n",
      "where $\\epsilon$ is normally distributed and each $A_i$ is a $k\\times k$ matrix of coefficients for that time location. This can be expressed more concisely as the matrix equation:\n",
      "\n",
      "$$Y = BZ + U$$\n",
      "\n",
      "where $Y$ is $k\\times T$, $B$ is $pk\\times k$, and $Z$ and $U$ are $k\\times T$. The process solves for the coefficient matrix $B$ and its covariance:\n",
      "\n",
      "$$\\hat{B} = YZ'(ZZ')^{-1}$$\n",
      "$$ \\textbf{Cov}(\\hat{B}) = (ZZ')^{-1} \\otimes \\hat\\Sigma, \\textrm{ where } \\hat\\Sigma = \\frac{1}{T-kp-1}(Y-\\hat{B}Z)(Y-\\hat{B}Z)'$$"
     ]
    },
    {
     "cell_type": "markdown",
     "metadata": {},
     "source": [
      "Let's load some macroeconomic data"
     ]
    },
    {
     "cell_type": "code",
     "collapsed": true,
     "input": [
      "mdata = sm.datasets.macrodata.load().data\n",
      "mdata = mdata[['realgdp','realcons','realinv']]\n",
      "names = mdata.dtype.names"
     ],
     "language": "python",
     "metadata": {},
     "outputs": []
    },
    {
     "cell_type": "code",
     "collapsed": false,
     "input": [
      "data = mdata.view((float,3))\n",
      "sm.tsa.var.plotting.plot_mts(data)"
     ],
     "language": "python",
     "metadata": {},
     "outputs": []
    },
    {
     "cell_type": "markdown",
     "metadata": {},
     "source": [
      "*Technical point!* VAR processes work best for stationary data, so we should use a numerical differencing method to cast our input data into this form."
     ]
    },
    {
     "cell_type": "code",
     "collapsed": false,
     "input": [
      "data = np.diff(np.log(data), axis=0)\n",
      "sm.tsa.var.plotting.plot_mts(data)"
     ],
     "language": "python",
     "metadata": {},
     "outputs": []
    },
    {
     "cell_type": "markdown",
     "metadata": {},
     "source": [
      "Construct the model"
     ]
    },
    {
     "cell_type": "code",
     "collapsed": false,
     "input": [
      "model = sm.tsa.VAR(data)"
     ],
     "language": "python",
     "metadata": {},
     "outputs": []
    },
    {
     "cell_type": "code",
     "collapsed": true,
     "input": [
      "lags = 10\n",
      "results = model.fit(lags)"
     ],
     "language": "python",
     "metadata": {},
     "outputs": []
    },
    {
     "cell_type": "markdown",
     "metadata": {},
     "source": [
      "Forecasting"
     ]
    },
    {
     "cell_type": "code",
     "collapsed": true,
     "input": [
      "#results = model.fit(maxlags=lags, ic='aic')\n",
      "nfore = 4\n",
      "lower, forecast, upper = results.forecast_interval(data, nfore)"
     ],
     "language": "python",
     "metadata": {},
     "outputs": []
    },
    {
     "cell_type": "code",
     "collapsed": false,
     "input": [
      "sm.tsa.var.plotting.plot_var_forc(data,forecast,upper,lower)"
     ],
     "language": "python",
     "metadata": {},
     "outputs": []
    },
    {
     "cell_type": "markdown",
     "metadata": {},
     "source": [
      "See:\n",
      "http://en.wikipedia.org/wiki/Christopher_A._Sims<br>\n",
      "http://en.wikipedia.org/wiki/Nobel_prize_economics#Alternative_names"
     ]
    }
   ],
   "metadata": {}
  }
 ]
}